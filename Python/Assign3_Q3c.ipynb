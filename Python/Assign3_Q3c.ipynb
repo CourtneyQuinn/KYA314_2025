{
 "cells": [
  {
   "cell_type": "code",
   "execution_count": 1,
   "id": "68e2a26a",
   "metadata": {},
   "outputs": [],
   "source": [
    "from __future__ import absolute_import, division, print_function"
   ]
  },
  {
   "cell_type": "code",
   "execution_count": 2,
   "id": "bd9f142c",
   "metadata": {},
   "outputs": [],
   "source": [
    "# License: MIT"
   ]
  },
  {
   "cell_type": "code",
   "execution_count": 3,
   "id": "f819aff6",
   "metadata": {},
   "outputs": [],
   "source": [
    "%matplotlib inline"
   ]
  },
  {
   "cell_type": "markdown",
   "id": "e412ad22",
   "metadata": {},
   "source": [
    "## Packages"
   ]
  },
  {
   "cell_type": "code",
   "execution_count": 4,
   "id": "75936f24",
   "metadata": {},
   "outputs": [],
   "source": [
    "import numpy as np\n",
    "import scipy as scipy\n",
    "import scipy.stats as stats\n",
    "import scipy.linalg as linalg\n",
    "from pprint import pprint\n",
    "\n",
    "import matplotlib.gridspec as gridspec\n",
    "import matplotlib.path as mpath\n",
    "import matplotlib.pyplot as plt\n",
    "\n",
    "import sys\n",
    "import os\n",
    "import copy\n",
    "import string\n",
    "import glob\n",
    "import xarray as xr \n",
    "\n",
    "import warnings"
   ]
  },
  {
   "cell_type": "markdown",
   "id": "19c85b20",
   "metadata": {},
   "source": [
    "## Modules"
   ]
  },
  {
   "cell_type": "code",
   "execution_count": 5,
   "id": "8cc01f52",
   "metadata": {},
   "outputs": [],
   "source": [
    "from custom_functions import MyJacobian, MySolve"
   ]
  },
  {
   "cell_type": "markdown",
   "id": "bbd775b6",
   "metadata": {},
   "source": [
    "# Assignment 3 Question 3c"
   ]
  },
  {
   "cell_type": "markdown",
   "id": "d62a341a",
   "metadata": {},
   "source": [
    "## Define parameters"
   ]
  },
  {
   "cell_type": "code",
   "execution_count": 6,
   "id": "051c9984",
   "metadata": {},
   "outputs": [],
   "source": [
    "alpha = 0.5\n",
    "beta = 0.2\n",
    "delta = 0.2\n",
    "K = 1"
   ]
  },
  {
   "cell_type": "markdown",
   "id": "b26ee159",
   "metadata": {},
   "source": [
    "## Define the Lotka-Volterra equations"
   ]
  },
  {
   "cell_type": "code",
   "execution_count": 7,
   "id": "24d8daaf",
   "metadata": {},
   "outputs": [],
   "source": [
    "def lotka_volterra(x):\n",
    "    dxdt = alpha * x[0] * (1 - x[0] / K) - beta * x[0] * x[1]\n",
    "    dydt = beta * x[0] * x[1] - delta * x[1]\n",
    "    return np.array([dxdt, dydt])"
   ]
  },
  {
   "cell_type": "markdown",
   "id": "4e9dbda8",
   "metadata": {},
   "source": [
    "## Define the Jacobian function"
   ]
  },
  {
   "cell_type": "code",
   "execution_count": 8,
   "id": "be141795",
   "metadata": {},
   "outputs": [],
   "source": [
    "def lv_jacobian(x):\n",
    "    dxdx = alpha - 2 * alpha * x[0] / K - beta * x[1]\n",
    "    dxdy = - beta * x[0]\n",
    "    dydx = beta * x[1]\n",
    "    dydy = beta * x[0] - delta\n",
    "    return np.array([[dxdx, dxdy],[dydx, dydy]]).reshape([2,2])"
   ]
  },
  {
   "cell_type": "markdown",
   "id": "61517421",
   "metadata": {},
   "source": [
    "## Run MySolve to find the equilibria"
   ]
  },
  {
   "cell_type": "code",
   "execution_count": 9,
   "id": "68490dab",
   "metadata": {},
   "outputs": [
    {
     "name": "stdout",
     "output_type": "stream",
     "text": [
      "Error is 0.208915, Residual is 0.0139599\n",
      "Error is 0.0967365, Residual is 0.00258378\n",
      "Error is 0.0479457, Residual is 0.000633566\n",
      "Error is 0.0239585, Residual is 0.000158341\n",
      "Error is 0.011979, Residual is 3.95851e-05\n",
      "Error is 0.00598949, Residual is 9.89627e-06\n",
      "Error is 0.00299474, Residual is 2.47407e-06\n",
      "Error is 0.00149737, Residual is 6.18517e-07\n",
      "Error is 0.000748686, Residual is 1.54629e-07\n",
      "Error is 0.000374343, Residual is 3.86573e-08\n",
      "Error is 0.000187172, Residual is 9.66432e-09\n",
      "Error is 9.35858e-05, Residual is 2.41608e-09\n",
      "Error is 4.67929e-05, Residual is 6.0402e-10\n",
      "Error is 2.33964e-05, Residual is 1.51005e-10\n",
      "Error is 1.16982e-05, Residual is 3.77513e-11\n",
      "Error is 5.84911e-06, Residual is 9.43782e-12\n",
      "Error is 2.92455e-06, Residual is 2.35945e-12\n",
      "Error is 1.46228e-06, Residual is 5.89864e-13\n",
      "Error is 7.31139e-07, Residual is 1.47466e-13\n"
     ]
    }
   ],
   "source": [
    "x1, conv1, J1 = MySolve(lotka_volterra, np.array([1.1,1.1]), lv_jacobian, 1e-6, 1000)"
   ]
  },
  {
   "cell_type": "code",
   "execution_count": 10,
   "id": "d8439655",
   "metadata": {},
   "outputs": [
    {
     "name": "stdout",
     "output_type": "stream",
     "text": [
      "The first equilibria is: x = 1.0, y = -0.0\n"
     ]
    }
   ],
   "source": [
    "print(\"The first equilibria is: x = \" + str(np.round(x1[0][0], 6)) + \", y = \" + str(np.round(x1[1][0], 5)))"
   ]
  },
  {
   "cell_type": "markdown",
   "id": "c2f3d484",
   "metadata": {},
   "source": [
    "This is the prey-only equilibrium *and* the coexistence equilibrium, as with these values, $\\frac{\\delta}{\\beta} = 1$ and $\\frac{\\alpha}{\\beta} (1 - \\frac{\\delta}{\\beta K}) = 0$."
   ]
  },
  {
   "cell_type": "code",
   "execution_count": 11,
   "id": "0fcc8934",
   "metadata": {},
   "outputs": [
    {
     "name": "stdout",
     "output_type": "stream",
     "text": [
      "Error is 0.0227478, Residual is 0.010157\n",
      "Error is 0.000506916, Residual is 0.000228067\n",
      "Error is 2.64401e-07, Residual is 1.22603e-07\n"
     ]
    }
   ],
   "source": [
    "x2, conv2, J2 = MySolve(lotka_volterra, np.array([0.1,0.1]), lv_jacobian, 1e-6, 1000)"
   ]
  },
  {
   "cell_type": "code",
   "execution_count": 12,
   "id": "d1fd03a4",
   "metadata": {},
   "outputs": [
    {
     "name": "stdout",
     "output_type": "stream",
     "text": [
      "The second equilibria is: x = -0.0, y = -0.0\n"
     ]
    }
   ],
   "source": [
    "print(\"The second equilibria is: x = \" + str(np.round(x2[0][0], 6)) + \", y = \" + str(np.round(x2[1][0], 5)))"
   ]
  },
  {
   "cell_type": "markdown",
   "id": "807f24a2",
   "metadata": {},
   "source": [
    "This is the extinction equilibrium."
   ]
  },
  {
   "cell_type": "markdown",
   "id": "9fe4ef68",
   "metadata": {},
   "source": [
    "## Calculate eigenvalues"
   ]
  },
  {
   "cell_type": "code",
   "execution_count": 13,
   "id": "02e903d4",
   "metadata": {},
   "outputs": [],
   "source": [
    "eig1, vec1 = np.linalg.eig(J1)"
   ]
  },
  {
   "cell_type": "code",
   "execution_count": 14,
   "id": "7cfc1ecc",
   "metadata": {},
   "outputs": [
    {
     "name": "stdout",
     "output_type": "stream",
     "text": [
      "The eigenvalues of the first equlibria are [-0.5  0. ]\n"
     ]
    }
   ],
   "source": [
    "print(\"The eigenvalues of the first equlibria are \" + str(np.round(eig1, 5)))"
   ]
  },
  {
   "cell_type": "markdown",
   "id": "0697ebc4",
   "metadata": {},
   "source": [
    "$\\lambda_2 = 0$, therefore this is a non-hyperbolic point for this equilibrium. A transcritical bifurcation is expected to occur at this equilibrium when $\\frac{\\delta}{\\beta K} = 1$, which the parameter values satisfy."
   ]
  },
  {
   "cell_type": "code",
   "execution_count": 15,
   "id": "088c147b",
   "metadata": {},
   "outputs": [],
   "source": [
    "eig2, vec2 = np.linalg.eig(J2)"
   ]
  },
  {
   "cell_type": "code",
   "execution_count": 16,
   "id": "230d5f40",
   "metadata": {},
   "outputs": [
    {
     "name": "stdout",
     "output_type": "stream",
     "text": [
      "The eigenvalues of the second equlibria are [ 0.5 -0.2]\n"
     ]
    }
   ],
   "source": [
    "print(\"The eigenvalues of the second equlibria are \" + str(eig2))"
   ]
  },
  {
   "cell_type": "markdown",
   "id": "e00af59b",
   "metadata": {},
   "source": [
    "This is consistent with the $\\lambda_1 = \\alpha$ and $\\lambda_2 = - \\delta$ determined analytically, therefore a saddle."
   ]
  },
  {
   "cell_type": "markdown",
   "id": "fde74751",
   "metadata": {},
   "source": [
    "## Modify parameter values"
   ]
  },
  {
   "cell_type": "markdown",
   "id": "792e4c86",
   "metadata": {},
   "source": [
    "Try $\\delta=0.1$ and $\\delta=0.25$ to see what happens at the non-hyperbolic point."
   ]
  },
  {
   "cell_type": "markdown",
   "id": "352aedd6",
   "metadata": {},
   "source": [
    "## $\\delta = 0.1$"
   ]
  },
  {
   "cell_type": "code",
   "execution_count": 17,
   "id": "ef59b4ce",
   "metadata": {},
   "outputs": [],
   "source": [
    "delta = 0.1"
   ]
  },
  {
   "cell_type": "code",
   "execution_count": 18,
   "id": "e1baf224",
   "metadata": {},
   "outputs": [
    {
     "name": "stdout",
     "output_type": "stream",
     "text": [
      "Error is 0.263875, Residual is 0.0386876\n",
      "Error is 0.019724, Residual is 0.00231204\n",
      "Error is 0.000206363, Residual is 2.05826e-05\n",
      "Error is 2.73261e-08, Residual is 2.59863e-09\n"
     ]
    }
   ],
   "source": [
    "x3, conv3, J3 = MySolve(lotka_volterra, np.array([1.1,1.1]), lv_jacobian, 1e-6, 1000)"
   ]
  },
  {
   "cell_type": "code",
   "execution_count": 19,
   "id": "4e1f735d",
   "metadata": {},
   "outputs": [
    {
     "name": "stdout",
     "output_type": "stream",
     "text": [
      "The equilibria is: x = 1.0, y = -0.0\n"
     ]
    }
   ],
   "source": [
    "print(\"The equilibria is: x = \" + str(np.round(x3[0][0], 6)) + \", y = \" + str(np.round(x3[1][0], 5)))"
   ]
  },
  {
   "cell_type": "markdown",
   "id": "789a7060",
   "metadata": {},
   "source": [
    "This is now *only* the prey-only equilibrium."
   ]
  },
  {
   "cell_type": "code",
   "execution_count": 20,
   "id": "ab7565c1",
   "metadata": {},
   "outputs": [],
   "source": [
    "eig3, vec3 = np.linalg.eig(J3)"
   ]
  },
  {
   "cell_type": "code",
   "execution_count": 21,
   "id": "8ca7568a",
   "metadata": {},
   "outputs": [
    {
     "name": "stdout",
     "output_type": "stream",
     "text": [
      "The eigenvalues of this equlibria are [-0.5  0.1]\n"
     ]
    }
   ],
   "source": [
    "print(\"The eigenvalues of this equlibria are \" + str(eig3))"
   ]
  },
  {
   "cell_type": "markdown",
   "id": "f6831d68",
   "metadata": {},
   "source": [
    "Therefore with $\\delta = 0.1$, the prey-only equilibrium is a saddle, as expected analytically, as $\\beta K > \\delta$."
   ]
  },
  {
   "cell_type": "code",
   "execution_count": 22,
   "id": "51cc013b",
   "metadata": {},
   "outputs": [
    {
     "name": "stdout",
     "output_type": "stream",
     "text": [
      "Error is 1.06066e-07, Residual is 2.18661e-08\n"
     ]
    }
   ],
   "source": [
    "x4, conv4, J4 = MySolve(lotka_volterra, np.array([0.5,0.5]), lv_jacobian, 1e-6, 1000)"
   ]
  },
  {
   "cell_type": "code",
   "execution_count": 23,
   "id": "25024ed3",
   "metadata": {},
   "outputs": [
    {
     "name": "stdout",
     "output_type": "stream",
     "text": [
      "The equilibria is: x = 0.5, y = 1.25\n"
     ]
    }
   ],
   "source": [
    "print(\"The equilibria is: x = \" + str(np.round(x4[0][0], 6)) + \", y = \" + str(np.round(x4[1][0], 5)))"
   ]
  },
  {
   "cell_type": "markdown",
   "id": "0ff3ae1d",
   "metadata": {},
   "source": [
    "This is the coexistence equilibrium."
   ]
  },
  {
   "cell_type": "code",
   "execution_count": 24,
   "id": "4e08d8f8",
   "metadata": {},
   "outputs": [],
   "source": [
    "eig4, vec4 = np.linalg.eig(J4)"
   ]
  },
  {
   "cell_type": "code",
   "execution_count": 25,
   "id": "8c0af440",
   "metadata": {},
   "outputs": [
    {
     "name": "stdout",
     "output_type": "stream",
     "text": [
      "The eigenvalues of this equlibria are [-0.125+0.09682458j -0.125-0.09682458j]\n"
     ]
    }
   ],
   "source": [
    "print(\"The eigenvalues of this equlibria are \" + str(eig4))"
   ]
  },
  {
   "cell_type": "markdown",
   "id": "5f5ac476",
   "metadata": {},
   "source": [
    "Therefore with $\\delta = 0.1$, the coexistence equilibrium is stable, as expected analytically, as $\\frac{\\delta}{\\beta K} < 1$."
   ]
  },
  {
   "cell_type": "markdown",
   "id": "bc8fdb6c",
   "metadata": {},
   "source": [
    "## $\\delta = 0.25$"
   ]
  },
  {
   "cell_type": "code",
   "execution_count": 26,
   "id": "e2c0ce01",
   "metadata": {},
   "outputs": [],
   "source": [
    "delta = 0.25"
   ]
  },
  {
   "cell_type": "code",
   "execution_count": 27,
   "id": "c88525a7",
   "metadata": {},
   "outputs": [
    {
     "name": "stdout",
     "output_type": "stream",
     "text": [
      "Error is 0.310147, Residual is 0.00827458\n",
      "Error is 0.110189, Residual is 0.00705806\n",
      "Error is 0.0167679, Residual is 0.000817927\n",
      "Error is 0.000419626, Residual is 1.95114e-05\n",
      "Error is 2.61199e-07, Residual is 1.2125e-08\n"
     ]
    }
   ],
   "source": [
    "x5, conv5, J5 = MySolve(lotka_volterra, np.array([1.1,1.1]), lv_jacobian, 1e-6, 1000)"
   ]
  },
  {
   "cell_type": "code",
   "execution_count": 28,
   "id": "3632757d",
   "metadata": {},
   "outputs": [
    {
     "name": "stdout",
     "output_type": "stream",
     "text": [
      "The equilibria is: x = 1.0, y = 0.0\n"
     ]
    }
   ],
   "source": [
    "print(\"The equilibria is: x = \" + str(np.round(x5[0][0], 6)) + \", y = \" + str(np.round(x5[1][0], 5)))"
   ]
  },
  {
   "cell_type": "markdown",
   "id": "f3425a89",
   "metadata": {},
   "source": [
    "This is now *only* the prey-only equilibrium."
   ]
  },
  {
   "cell_type": "code",
   "execution_count": 29,
   "id": "2a8765f0",
   "metadata": {},
   "outputs": [],
   "source": [
    "eig5, vec5 = np.linalg.eig(J5)"
   ]
  },
  {
   "cell_type": "code",
   "execution_count": 30,
   "id": "d85dc55f",
   "metadata": {},
   "outputs": [
    {
     "name": "stdout",
     "output_type": "stream",
     "text": [
      "The eigenvalues of this equlibria are [-0.5  -0.05]\n"
     ]
    }
   ],
   "source": [
    "print(\"The eigenvalues of this equlibria are \" + str(eig5))"
   ]
  },
  {
   "cell_type": "markdown",
   "id": "22e19df6",
   "metadata": {},
   "source": [
    "Therefore with $\\delta = 0.25$, the prey-only equilibrium is a stable node, as expected analytically, as $\\beta K < \\delta$."
   ]
  },
  {
   "cell_type": "code",
   "execution_count": 31,
   "id": "5a3a6058",
   "metadata": {},
   "outputs": [
    {
     "name": "stdout",
     "output_type": "stream",
     "text": [
      "Error is 2.35037, Residual is 1.09218\n",
      "Error is 1.00816, Residual is 0.248312\n",
      "Error is 0.441546, Residual is 0.0572172\n",
      "Error is 0.168703, Residual is 0.0124397\n",
      "Error is 0.0372374, Residual is 0.00192075\n",
      "Error is 0.00204014, Residual is 9.51823e-05\n",
      "Error is 6.1786e-06, Residual is 2.86776e-07\n",
      "Error is 5.67042e-11, Residual is 2.63231e-12\n"
     ]
    }
   ],
   "source": [
    "x6, conv6, J6 = MySolve(lotka_volterra, np.array([1.5,1.5]), lv_jacobian, 1e-6, 1000)"
   ]
  },
  {
   "cell_type": "code",
   "execution_count": 32,
   "id": "0d19b00d",
   "metadata": {},
   "outputs": [
    {
     "name": "stdout",
     "output_type": "stream",
     "text": [
      "The equilibria is: x = 1.25, y = -0.625\n"
     ]
    }
   ],
   "source": [
    "print(\"The equilibria is: x = \" + str(np.round(x6[0][0], 6)) + \", y = \" + str(np.round(x6[1][0], 5)))"
   ]
  },
  {
   "cell_type": "markdown",
   "id": "59a88b09",
   "metadata": {},
   "source": [
    "This is the coexistence equilibrium."
   ]
  },
  {
   "cell_type": "code",
   "execution_count": 33,
   "id": "55bf24b4",
   "metadata": {},
   "outputs": [],
   "source": [
    "eig6, vec6 = np.linalg.eig(J6)"
   ]
  },
  {
   "cell_type": "code",
   "execution_count": 34,
   "id": "590db156",
   "metadata": {},
   "outputs": [
    {
     "name": "stdout",
     "output_type": "stream",
     "text": [
      "The eigenvalues of this equlibria are [-0.67153517  0.04653517]\n"
     ]
    }
   ],
   "source": [
    "print(\"The eigenvalues of this equlibria are \" + str(eig6))"
   ]
  },
  {
   "cell_type": "markdown",
   "id": "57c53f32",
   "metadata": {},
   "source": [
    "Therefore with $\\delta = 0.25$, the coexistence equilibrium is a saddle, as expected analytically, as $\\frac{\\delta}{\\beta K} > 1$."
   ]
  },
  {
   "cell_type": "markdown",
   "id": "5bc03a16",
   "metadata": {},
   "source": [
    "Thus, the two equilibria exchange stability at the point $\\frac{\\delta}{\\beta K} = 1$, where there is a non-hyperbolic equilibrium, therefore the transcritical bifurcation has been verified."
   ]
  }
 ],
 "metadata": {
  "kernelspec": {
   "display_name": "Python 3 (ipykernel)",
   "language": "python",
   "name": "python3"
  },
  "language_info": {
   "codemirror_mode": {
    "name": "ipython",
    "version": 3
   },
   "file_extension": ".py",
   "mimetype": "text/x-python",
   "name": "python",
   "nbconvert_exporter": "python",
   "pygments_lexer": "ipython3",
   "version": "3.9.12"
  }
 },
 "nbformat": 4,
 "nbformat_minor": 5
}
