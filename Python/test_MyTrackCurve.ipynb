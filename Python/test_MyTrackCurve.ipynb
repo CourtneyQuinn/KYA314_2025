{
 "cells": [
  {
   "cell_type": "code",
   "execution_count": 1,
   "id": "867f9337-bddf-4010-8163-9966a300bba5",
   "metadata": {
    "tags": []
   },
   "outputs": [],
   "source": [
    "from __future__ import absolute_import, division, print_function"
   ]
  },
  {
   "cell_type": "code",
   "execution_count": 2,
   "id": "64bf1ecf-f186-44eb-a004-3ee381135217",
   "metadata": {},
   "outputs": [],
   "source": [
    "# License: MIT"
   ]
  },
  {
   "cell_type": "code",
   "execution_count": 3,
   "id": "5de0b860-251e-45da-a48a-dde644bdc266",
   "metadata": {},
   "outputs": [],
   "source": [
    "%matplotlib inline"
   ]
  },
  {
   "cell_type": "markdown",
   "id": "f2121888-1074-41a9-885d-a8f425999371",
   "metadata": {},
   "source": [
    "## Packages"
   ]
  },
  {
   "cell_type": "code",
   "execution_count": 4,
   "id": "fc00804a-471b-4598-8069-ab1070f148c8",
   "metadata": {},
   "outputs": [],
   "source": [
    "import numpy as np\n",
    "import scipy as scipy\n",
    "import scipy.stats as stats\n",
    "import scipy.linalg as linalg\n",
    "from pprint import pprint\n",
    "\n",
    "import matplotlib.gridspec as gridspec\n",
    "import matplotlib.path as mpath\n",
    "import matplotlib.pyplot as plt\n",
    "\n",
    "import sys\n",
    "import os\n",
    "import copy\n",
    "import string\n",
    "import glob\n",
    "import xarray as xr \n",
    "\n",
    "import warnings"
   ]
  },
  {
   "cell_type": "markdown",
   "id": "784a95b3-6915-4aed-94aa-36b78a43f015",
   "metadata": {},
   "source": [
    "## Modules"
   ]
  },
  {
   "cell_type": "code",
   "execution_count": 5,
   "id": "7912d701-5f08-4e24-9848-ba014ea25546",
   "metadata": {},
   "outputs": [],
   "source": [
    "from custom_functions import *"
   ]
  },
  {
   "cell_type": "markdown",
   "id": "25d310c5-427c-4cad-b22a-13fdb809a1ee",
   "metadata": {},
   "source": [
    "# Test curve tracking function using provided example"
   ]
  },
  {
   "cell_type": "markdown",
   "id": "306a37c9-fb7c-4282-a547-6ae31cd42903",
   "metadata": {},
   "source": [
    "## Example\n",
    "$f(y)=y_1^2+y_2^2-1$\n",
    "\n",
    "This is a circle."
   ]
  },
  {
   "cell_type": "code",
   "execution_count": 20,
   "id": "021dcf4d-228c-43b0-942e-214610ebe874",
   "metadata": {},
   "outputs": [],
   "source": [
    "# Define function\n",
    "def f(y):\n",
    "    fout = y[0,:]**2+y[1,:]**2-1\n",
    "    return np.array([fout])"
   ]
  },
  {
   "cell_type": "markdown",
   "id": "9cd69f9e-a158-4374-afe6-5585669537a5",
   "metadata": {},
   "source": [
    "### Define Jacobian"
   ]
  },
  {
   "cell_type": "code",
   "execution_count": 21,
   "id": "b1149d20-8db2-44d9-832a-a59241c81641",
   "metadata": {
    "tags": []
   },
   "outputs": [],
   "source": [
    "h=1e-6;\n",
    "def df(y): \n",
    "    J = MyJacobian(f,y,h)\n",
    "    if J.ndim > 2:\n",
    "        J = J.squeeze(axis=2)\n",
    "    return J"
   ]
  },
  {
   "cell_type": "markdown",
   "id": "47f13176-f5df-4eca-a231-32d72f164d99",
   "metadata": {},
   "source": [
    "### Define MyTrackCurve initial points"
   ]
  },
  {
   "cell_type": "code",
   "execution_count": 22,
   "id": "7cb7fd14-a532-4396-beba-d090fc06f649",
   "metadata": {},
   "outputs": [],
   "source": [
    "y0 = np.array([0.,1.])\n",
    "ytan = np.array([1.,0.])"
   ]
  },
  {
   "cell_type": "code",
   "execution_count": 23,
   "id": "e78d67a3-b497-48c9-9ed9-cac37af23f09",
   "metadata": {},
   "outputs": [],
   "source": [
    "ylist = MyTrackCurve(f,df,y0,ytan,stepsize=0.1);"
   ]
  },
  {
   "cell_type": "markdown",
   "id": "081c3b0e-f5fa-4bf4-bf90-cc122e20b9c3",
   "metadata": {},
   "source": [
    "## Plot solution"
   ]
  },
  {
   "cell_type": "code",
   "execution_count": 24,
   "id": "51a53741-60c3-4538-a933-18390c0b442b",
   "metadata": {},
   "outputs": [
    {
     "data": {
      "image/png": "[encoded data removed]",
      "text/plain": [
       "<Figure size 640x480 with 1 Axes>"
      ]
     },
     "metadata": {},
     "output_type": "display_data"
    }
   ],
   "source": [
    "plt.plot(ylist[0,:],ylist[1,:])\n",
    "plt.xlabel(\"$y_1$\")\n",
    "plt.ylabel(\"$y_2$\")\n",
    "plt.title(\"$y_1^2+y_2^2=1$\")\n",
    "plt.axis('equal')\n",
    "plt.show()"
   ]
  },
  {
   "cell_type": "code",
   "execution_count": null,
   "id": "b0626b0d-98e5-4a83-9c0c-5befcd7c08c6",
   "metadata": {},
   "outputs": [],
   "source": []
  }
 ],
 "metadata": {
  "kernelspec": {
   "display_name": "Python 3 (ipykernel)",
   "language": "python",
   "name": "python3"
  },
  "language_info": {
   "codemirror_mode": {
    "name": "ipython",
    "version": 3
   },
   "file_extension": ".py",
   "mimetype": "text/x-python",
   "name": "python",
   "nbconvert_exporter": "python",
   "pygments_lexer": "ipython3",
   "version": "3.9.12"
  }
 },
 "nbformat": 4,
 "nbformat_minor": 5
}
