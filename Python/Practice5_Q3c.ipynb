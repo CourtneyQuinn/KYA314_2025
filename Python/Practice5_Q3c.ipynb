{
 "cells": [
  {
   "cell_type": "code",
   "execution_count": 1,
   "id": "364d35b7-24d2-448e-98e6-a9b20d33d3b2",
   "metadata": {
    "tags": []
   },
   "outputs": [],
   "source": [
    "from __future__ import absolute_import, division, print_function"
   ]
  },
  {
   "cell_type": "code",
   "execution_count": 2,
   "id": "af540825-c218-47aa-abdb-d199fe5a5198",
   "metadata": {},
   "outputs": [],
   "source": [
    "# License: MIT"
   ]
  },
  {
   "cell_type": "code",
   "execution_count": 3,
   "id": "76540521-2142-4b2c-8bf6-07c86bf5d53c",
   "metadata": {},
   "outputs": [],
   "source": [
    "%matplotlib inline"
   ]
  },
  {
   "cell_type": "markdown",
   "id": "368326ad-0035-48f0-8815-f4f2c827bf53",
   "metadata": {},
   "source": [
    "## Packages"
   ]
  },
  {
   "cell_type": "code",
   "execution_count": 4,
   "id": "8f94c374-8a3d-48a1-8f56-967f527ce4d5",
   "metadata": {},
   "outputs": [],
   "source": [
    "import numpy as np\n",
    "import scipy as scipy\n",
    "import scipy.stats as stats\n",
    "import scipy.linalg as linalg\n",
    "from pprint import pprint\n",
    "\n",
    "import matplotlib.gridspec as gridspec\n",
    "import matplotlib.path as mpath\n",
    "import matplotlib.pyplot as plt\n",
    "\n",
    "import sys\n",
    "import os\n",
    "import copy\n",
    "import string\n",
    "import glob\n",
    "import xarray as xr \n",
    "\n",
    "import warnings"
   ]
  },
  {
   "cell_type": "markdown",
   "id": "8aff2117-7c86-4e6c-9b39-c59200311c35",
   "metadata": {},
   "source": [
    "## Modules"
   ]
  },
  {
   "cell_type": "code",
   "execution_count": 5,
   "id": "d31a1cd5-56ff-4c32-8746-4db6a7f0b963",
   "metadata": {},
   "outputs": [],
   "source": [
    "from custom_functions import *"
   ]
  },
  {
   "cell_type": "markdown",
   "id": "fc6c00a9-df10-4749-854f-0a3b23c995b7",
   "metadata": {},
   "source": [
    "# Practice 5 Q1c"
   ]
  },
  {
   "cell_type": "markdown",
   "id": "e3647859-704e-48c7-ab23-dc64a59293d0",
   "metadata": {},
   "source": [
    "## Define map"
   ]
  },
  {
   "cell_type": "code",
   "execution_count": 6,
   "id": "35ce8235-3dcf-4d0d-b3d4-05f761da540c",
   "metadata": {},
   "outputs": [],
   "source": [
    "def f(x,a,b):\n",
    "    f1 = np.exp(-a*x**2)+b\n",
    "    return f1"
   ]
  },
  {
   "cell_type": "markdown",
   "id": "b41684ae-2878-4127-bc6a-eee8785c1b63",
   "metadata": {},
   "source": [
    "## $\\alpha = 5$"
   ]
  },
  {
   "cell_type": "code",
   "execution_count": 20,
   "id": "dd007eb8-a83a-4b84-bd80-084a21edcc75",
   "metadata": {
    "tags": []
   },
   "outputs": [],
   "source": [
    "# set parameters\n",
    "a = 5;\n",
    "x0 = 0.1;\n",
    "b_vals = np.linspace(-1,1,201);\n",
    "\n",
    "# set number of iterations\n",
    "Nsteps = 5000;"
   ]
  },
  {
   "cell_type": "code",
   "execution_count": 21,
   "id": "aac927ca-b0ef-476f-b5b2-bb1cfac3b2d7",
   "metadata": {
    "tags": []
   },
   "outputs": [],
   "source": [
    "# create empty solution vector \n",
    "xtraj = np.empty((1,Nsteps+1));\n",
    "xtraj[:] = np.nan\n",
    "\n",
    "# input initial condition\n",
    "xtraj[:,0] = x0;"
   ]
  },
  {
   "cell_type": "markdown",
   "id": "361537d7-1854-497a-86d4-23f0b7e9c39c",
   "metadata": {},
   "source": [
    "### Define tangent space function"
   ]
  },
  {
   "cell_type": "code",
   "execution_count": 22,
   "id": "f7ce5dff-7b39-439c-a838-54b36c375f25",
   "metadata": {
    "tags": []
   },
   "outputs": [],
   "source": [
    "tan_func = lambda x,a: -2*x*a*np.exp(-a*x**2)\n",
    "logdf = lambda x,a: np.log(abs(tan_func(x,a)))"
   ]
  },
  {
   "cell_type": "markdown",
   "id": "7e059cd8-41c2-47b1-97c9-e5a3232f139a",
   "metadata": {},
   "source": [
    "### Plot Lyap exp for varying $\\beta$"
   ]
  },
  {
   "cell_type": "code",
   "execution_count": 27,
   "id": "393a0c03-3e1e-4dd1-91d9-4c9ffae0b720",
   "metadata": {},
   "outputs": [
    {
     "name": "stderr",
     "output_type": "stream",
     "text": [
      "C:\\Users\\quinncr\\AppData\\Local\\Temp\\ipykernel_20380\\1950247447.py:2: RuntimeWarning: divide by zero encountered in log\n",
      "  logdf = lambda x,a: np.log(abs(tan_func(x,a)))\n"
     ]
    },
    {
     "data": {
      "text/plain": [
       "[<matplotlib.lines.Line2D at 0x176ea9a0970>]"
      ]
     },
     "execution_count": 27,
     "metadata": {},
     "output_type": "execute_result"
    },
    {
     "data": {
      "image/png": "[encoded data removed]",
      "text/plain": [
       "<Figure size 640x480 with 1 Axes>"
      ]
     },
     "metadata": {},
     "output_type": "display_data"
    }
   ],
   "source": [
    "Lyaps = np.empty((b_vals.shape[0],1))\n",
    "Lyaps[:] = np.nan\n",
    "\n",
    "for j in np.arange(0,b_vals.shape[0]):\n",
    "    b = b_vals[j]\n",
    "    x0 = 0.1;\n",
    "    \n",
    "    # create empty solution vector \n",
    "    xtraj = np.empty((Nsteps+1))\n",
    "    xtraj[:] = np.nan\n",
    "\n",
    "    # input initial condition\n",
    "    xtraj[0] = x0;\n",
    "    \n",
    "    # iterate map\n",
    "    for i in np.arange(0,Nsteps):\n",
    "        x0 = f(x0,a,b)\n",
    "        xtraj[i+1] = x0\n",
    "\n",
    "    Lyap = np.mean(logdf(xtraj,a))\n",
    "\n",
    "    Lyaps[j] = Lyap;\n",
    "\n",
    "\n",
    "plt.plot([b_vals[0],b_vals[-1]],[0,0],color='k')\n",
    "plt.plot(b_vals,Lyaps,'r.')"
   ]
  },
  {
   "cell_type": "code",
   "execution_count": null,
   "id": "9a5226cf-418c-4eae-b1c7-e913ab6cb275",
   "metadata": {},
   "outputs": [],
   "source": []
  }
 ],
 "metadata": {
  "kernelspec": {
   "display_name": "Python 3 (ipykernel)",
   "language": "python",
   "name": "python3"
  },
  "language_info": {
   "codemirror_mode": {
    "name": "ipython",
    "version": 3
   },
   "file_extension": ".py",
   "mimetype": "text/x-python",
   "name": "python",
   "nbconvert_exporter": "python",
   "pygments_lexer": "ipython3",
   "version": "3.9.12"
  }
 },
 "nbformat": 4,
 "nbformat_minor": 5
}
