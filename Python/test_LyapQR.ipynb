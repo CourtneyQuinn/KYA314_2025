{
 "cells": [
  {
   "cell_type": "code",
   "execution_count": 1,
   "id": "57482f2f-c09b-47b9-9c08-719b56da8bc6",
   "metadata": {
    "tags": []
   },
   "outputs": [],
   "source": [
    "from __future__ import absolute_import, division, print_function"
   ]
  },
  {
   "cell_type": "code",
   "execution_count": 2,
   "id": "71faf984-5b84-4e27-8a6e-ce1e60337220",
   "metadata": {},
   "outputs": [],
   "source": [
    "# License: MIT"
   ]
  },
  {
   "cell_type": "code",
   "execution_count": 3,
   "id": "f74c7bd4-73d0-4aeb-9a93-16bd17ae44af",
   "metadata": {},
   "outputs": [],
   "source": [
    "%matplotlib inline"
   ]
  },
  {
   "cell_type": "markdown",
   "id": "ae5c212c-9f9d-4942-b9cb-776cd5995b2e",
   "metadata": {},
   "source": [
    "## Packages"
   ]
  },
  {
   "cell_type": "code",
   "execution_count": 4,
   "id": "cfad49d3-d61d-4c43-941e-c315d942d6c4",
   "metadata": {},
   "outputs": [],
   "source": [
    "import numpy as np\n",
    "import scipy as scipy\n",
    "import scipy.stats as stats\n",
    "import scipy.linalg as linalg\n",
    "from pprint import pprint\n",
    "\n",
    "import matplotlib.gridspec as gridspec\n",
    "import matplotlib.path as mpath\n",
    "import matplotlib.pyplot as plt\n",
    "\n",
    "import sys\n",
    "import os\n",
    "import copy\n",
    "import string\n",
    "import glob\n",
    "import xarray as xr \n",
    "\n",
    "import warnings"
   ]
  },
  {
   "cell_type": "markdown",
   "id": "f1b10d14-0d2f-4ff0-9042-3f1c6f7502c9",
   "metadata": {},
   "source": [
    "## Modules"
   ]
  },
  {
   "cell_type": "code",
   "execution_count": 5,
   "id": "fd8f2587-cc34-4d8f-ad32-c6316ed9fba2",
   "metadata": {},
   "outputs": [],
   "source": [
    "from custom_functions import *"
   ]
  },
  {
   "cell_type": "markdown",
   "id": "5654b212-2b60-4c0b-ab10-134f427e3d01",
   "metadata": {},
   "source": [
    "# Test Lyapunov QR function using provided example"
   ]
  },
  {
   "cell_type": "markdown",
   "id": "2e63910e-61be-4607-9859-e3208339ce3a",
   "metadata": {},
   "source": [
    "## Example\n",
    "The Henon map is given by\n",
    "$$M_H\\begin{pmatrix} x \\\\ y \\end{pmatrix} = \\begin{pmatrix} 1-\\alpha x^2+y \\\\ \\beta x \\end{pmatrix}.$$\n",
    "\n",
    "Consider a period-2 solution for $\\alpha=0.8$ and $\\beta=0.4$."
   ]
  },
  {
   "cell_type": "code",
   "execution_count": 6,
   "id": "36fdee9e-1f8f-4370-add6-71673c12d984",
   "metadata": {},
   "outputs": [],
   "source": [
    "# define map\n",
    "def HenonMap(x,p):\n",
    "    p[0] = alpha\n",
    "    p[1] = beta\n",
    "    \n",
    "    xout = np.empty(x.shape)*np.nan\n",
    "    \n",
    "    xout[0] = 1 - alpha*x[0]**2+x[1];\n",
    "    xout[1] = beta*x[0]\n",
    "    return xout"
   ]
  },
  {
   "cell_type": "code",
   "execution_count": 7,
   "id": "9299c834-d48a-42c5-8de7-04b5f747ff87",
   "metadata": {},
   "outputs": [],
   "source": [
    "# set parameters (period-2 solution)\n",
    "alpha = 0.8\n",
    "beta = 0.4\n",
    "p = np.array([alpha,beta])\n",
    "\n",
    "# set initial condition\n",
    "x0 = np.array([1.,1.])\n",
    "\n",
    "# calculate solution orbit\n",
    "tn = np.arange(0,1001,1)\n",
    "xn = np.empty([x0.shape[0],tn.shape[0]])*np.nan\n",
    "xn[:,0] = x0\n",
    "\n",
    "for ti in tn[:-1]:\n",
    "    xi = HenonMap(xn[:,ti],p)\n",
    "    xn[:,ti+1] = xi       "
   ]
  },
  {
   "cell_type": "code",
   "execution_count": 8,
   "id": "772e68be-a20c-49c4-9b45-d7a863abfca9",
   "metadata": {},
   "outputs": [
    {
     "data": {
      "image/png": "[encoded data removed]",
      "text/plain": [
       "<Figure size 640x480 with 1 Axes>"
      ]
     },
     "metadata": {},
     "output_type": "display_data"
    }
   ],
   "source": [
    "# Plot to confirm period-2 nature\n",
    "plt.plot(xn[0,-10:],xn[1,-10:],'.')\n",
    "plt.show()"
   ]
  },
  {
   "cell_type": "code",
   "execution_count": 9,
   "id": "e0e6bfba-1c20-44f8-bfdb-04431fadfc2a",
   "metadata": {},
   "outputs": [
    {
     "name": "stderr",
     "output_type": "stream",
     "text": [
      "C:\\Users\\quinncr\\Documents\\Python\\KYA314\\2025\\custom_functions.py:299: RuntimeWarning: divide by zero encountered in scalar divide\n",
      "  Lambda[:,j] = 1/j*np.sum(np.log(Rdiag[:,:j]),axis=1)\n",
      "C:\\Users\\quinncr\\Documents\\Python\\KYA314\\2025\\custom_functions.py:299: RuntimeWarning: invalid value encountered in multiply\n",
      "  Lambda[:,j] = 1/j*np.sum(np.log(Rdiag[:,:j]),axis=1)\n"
     ]
    }
   ],
   "source": [
    "# Calculate Lyapunov exponents\n",
    "N = 1000\n",
    "lyaps = LyapQR(lambda x: HenonMap(x,p),x0,N)"
   ]
  },
  {
   "cell_type": "code",
   "execution_count": 10,
   "id": "854ef084-5c84-4b43-81c6-ba72f37bb700",
   "metadata": {},
   "outputs": [
    {
     "data": {
      "text/plain": [
       "array([-0.14493543, -0.7713553 ])"
      ]
     },
     "execution_count": 10,
     "metadata": {},
     "output_type": "execute_result"
    }
   ],
   "source": [
    "lyaps[0]"
   ]
  },
  {
   "cell_type": "code",
   "execution_count": 11,
   "id": "12e73976-0bab-4e80-97ba-2d54f514fef5",
   "metadata": {},
   "outputs": [
    {
     "data": {
      "text/plain": [
       "array([0.7483602 , 0.21380079])"
      ]
     },
     "execution_count": 11,
     "metadata": {},
     "output_type": "execute_result"
    }
   ],
   "source": [
    "np.exp(2*lyaps[0])"
   ]
  },
  {
   "cell_type": "code",
   "execution_count": 12,
   "id": "d955748b-8125-4bbc-8829-6c08ffa56e38",
   "metadata": {},
   "outputs": [
    {
     "name": "stdout",
     "output_type": "stream",
     "text": [
      "[0.74532998 0.21467002]\n"
     ]
    }
   ],
   "source": [
    "M2 = lambda x: HenonMap(HenonMap(x,p),p)\n",
    "\n",
    "J = MyJacobian(M2,xn[:,-1],1e-6).squeeze()\n",
    "eigs = np.linalg.eig(J)[0]\n",
    "print(abs(eigs))"
   ]
  },
  {
   "cell_type": "markdown",
   "id": "81f073bf-d9fe-497c-8b28-d9c47dac19ea",
   "metadata": {},
   "source": [
    "### Now consider $\\alpha=1.4$ and $\\beta=0.3$"
   ]
  },
  {
   "cell_type": "code",
   "execution_count": 13,
   "id": "33df54ef-8440-4948-86bd-caa561e84d41",
   "metadata": {},
   "outputs": [],
   "source": [
    "# set parameters (period-2 solution)\n",
    "alpha = 1.4\n",
    "beta = 0.3\n",
    "p = np.array([alpha,beta])\n",
    "\n",
    "# set initial condition\n",
    "x0 = np.array([1.,1.])\n",
    "\n",
    "# calculate solution orbit\n",
    "tn = np.arange(0,1001,1)\n",
    "xn = np.empty([x0.shape[0],tn.shape[0]])*np.nan\n",
    "xn[:,0] = x0\n",
    "\n",
    "for ti in tn[:-1]:\n",
    "    xi = HenonMap(xn[:,ti],p)\n",
    "    xn[:,ti+1] = xi       "
   ]
  },
  {
   "cell_type": "code",
   "execution_count": 14,
   "id": "f8cde1eb-0170-4a8d-9713-7b3377f0d6f8",
   "metadata": {},
   "outputs": [
    {
     "data": {
      "image/png": "[encoded data removed]",
      "text/plain": [
       "<Figure size 640x480 with 1 Axes>"
      ]
     },
     "metadata": {},
     "output_type": "display_data"
    }
   ],
   "source": [
    "# Plot to confirm chaotic nature\n",
    "plt.plot(xn[0,100:],xn[1,100:],'.')\n",
    "plt.show()"
   ]
  },
  {
   "cell_type": "code",
   "execution_count": 15,
   "id": "4c276f74-d80b-4ab5-bba0-db151fb947c7",
   "metadata": {},
   "outputs": [],
   "source": [
    "# Calculate Lyapunov exponents\n",
    "N = 1000\n",
    "lyaps = LyapQR(lambda x: HenonMap(x,p),x0,N)"
   ]
  },
  {
   "cell_type": "code",
   "execution_count": 16,
   "id": "fdede6e4-50bd-42b0-8c73-399f7a816a40",
   "metadata": {},
   "outputs": [
    {
     "data": {
      "text/plain": [
       "array([ 0.41958584, -1.62355865])"
      ]
     },
     "execution_count": 16,
     "metadata": {},
     "output_type": "execute_result"
    }
   ],
   "source": [
    "lyaps[0]"
   ]
  },
  {
   "cell_type": "code",
   "execution_count": null,
   "id": "c1a3a3c8-9079-49ae-89ce-cdaab2a86b3c",
   "metadata": {},
   "outputs": [],
   "source": []
  }
 ],
 "metadata": {
  "kernelspec": {
   "display_name": "Python 3 (ipykernel)",
   "language": "python",
   "name": "python3"
  },
  "language_info": {
   "codemirror_mode": {
    "name": "ipython",
    "version": 3
   },
   "file_extension": ".py",
   "mimetype": "text/x-python",
   "name": "python",
   "nbconvert_exporter": "python",
   "pygments_lexer": "ipython3",
   "version": "3.9.12"
  }
 },
 "nbformat": 4,
 "nbformat_minor": 5
}
